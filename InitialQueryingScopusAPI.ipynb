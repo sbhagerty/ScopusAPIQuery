{
 "cells": [
  {
   "cell_type": "markdown",
   "metadata": {},
   "source": [
    "# Querying Scopus API \n",
    "\n",
    "## 1. Initial Set Up\n",
    "\n",
    "##### Importing required libraries."
   ]
  },
  {
   "cell_type": "code",
   "execution_count": 1,
   "metadata": {},
   "outputs": [],
   "source": [
    "import ScopusFunctions\n",
    "import pandas as pd"
   ]
  },
  {
   "cell_type": "markdown",
   "metadata": {},
   "source": [
    "Note ScopusFunctions are a set of functions I built to query the API and get desired information, it also requires config.py with the api key and the python requests library.  I use the help function here to list out the functions and their docstrings. In ScopusFunctions I import my ScopusAPI key, and the requests library. "
   ]
  },
  {
   "cell_type": "code",
   "execution_count": 2,
   "metadata": {},
   "outputs": [
    {
     "name": "stdout",
     "output_type": "stream",
     "text": [
      "Help on module ScopusFunctions:\n",
      "\n",
      "NAME\n",
      "    ScopusFunctions - Created on Wed Apr  3 14:39:13 2019\n",
      "\n",
      "DESCRIPTION\n",
      "    @author: shannonhagerty\n",
      "\n",
      "FUNCTIONS\n",
      "    GetPaperIDsFromAuthID(authID)\n",
      "        This function uses Author Id to query Scopus API and returns a list of\n",
      "        ScopusID values assigned to each paper the author has in Scopus, if author\n",
      "        ID is 0 then the list returned will just have one 0 value\n",
      "    \n",
      "    getArticleInfo(ScopusID)\n",
      "        This function has one agrument, ScopusID which is associated with each\n",
      "        paper in Scopus Database, it then queries Scopus API and returns 5 \n",
      "        variables 1)a list of authors, 2) a string the article title, 3) year \n",
      "        published, 4) Name of Journal holding publication, 5) A mostly fully \n",
      "        constructed citation, it returns zeroes for everything if ScopusID is 0\n",
      "    \n",
      "    getAuthIDFromName(FirstName, LastName, Affiliation='brandeis university')\n",
      "        This function takes three arguments 1) First name of person, \n",
      "        2) Last Name of Person, and 3)University affiliation which is \n",
      "        brandeis university by default.  The function querys Scopus API and returns an int\n",
      "        authorID and int total document count in scopus for the faculty. It \n",
      "        only makes a match if only one person with that affiliation is found, if \n",
      "        more than one person found then authID an Scopus ID is set to 0\n",
      "    \n",
      "    getCitedRefsJournalName(ScopusID)\n",
      "        This function takes a scopus ID (i.e. the unique id number for an article\n",
      "        in Scopus) and query's the Scoupus API to get journal titles for articles\n",
      "        cited in the reference section of the paper. The function returns a list \n",
      "        of the journal articles\n",
      "\n",
      "FILE\n",
      "    /Users/shannonhagerty/Desktop/GitHub/ScopusAPI/ScopusFunctions.py\n",
      "\n",
      "\n"
     ]
    }
   ],
   "source": [
    "help(ScopusFunctions)"
   ]
  },
  {
   "cell_type": "markdown",
   "metadata": {},
   "source": [
    "##### Now here is where file paths and names are set "
   ]
  },
  {
   "cell_type": "markdown",
   "metadata": {},
   "source": [
    "A csv file with three columns named: FirstName, LastName, Dept"
   ]
  },
  {
   "cell_type": "code",
   "execution_count": 3,
   "metadata": {},
   "outputs": [],
   "source": [
    "FileWithNames = 'BrandeisComputerScience/FacultyList_ComputerScience.csv' "
   ]
  },
  {
   "cell_type": "markdown",
   "metadata": {},
   "source": [
    "This is going to be the path and file name for csv that will be generated containing columns: FacultyLastName, FacultyFirstName, authlist, title, Year, Journal, citation, ScopusID where each row is an article published by a member of the faculty from FileWithNames, will have repeats for faculty that coauthor a paper together. "
   ]
  },
  {
   "cell_type": "code",
   "execution_count": 38,
   "metadata": {},
   "outputs": [],
   "source": [
    "FileWithOutputPapers = 'BrandeisComputerScience/ComputerSciencePapers.csv'"
   ]
  },
  {
   "cell_type": "markdown",
   "metadata": {},
   "source": [
    "Name of file where Faculty who do not have perfect AuthID match will go, these will need to be manually queried in Scopus to check if they have no id or if they have an ID but it is associated with a former affiliation"
   ]
  },
  {
   "cell_type": "code",
   "execution_count": 39,
   "metadata": {},
   "outputs": [],
   "source": [
    "FileWithNamesToCheck = 'BrandeisComputerScience/FacultyCheck.csv'"
   ]
  },
  {
   "cell_type": "markdown",
   "metadata": {},
   "source": [
    "After you get the file with names to check, you check the names and you should have a file with columns: FacultyLastName, FacutlyFirstName, AuthID\n",
    "\n",
    "You'll reload that one back in to get the papers for these faculty you had to manually check. "
   ]
  },
  {
   "cell_type": "code",
   "execution_count": 40,
   "metadata": {},
   "outputs": [],
   "source": [
    "CheckedFileName = 'BrandeisComputerScience/FacultyChecked.csv'"
   ]
  },
  {
   "cell_type": "markdown",
   "metadata": {},
   "source": [
    "## 2. Generating dataframe of faculty publications\n",
    "\n",
    "First creating the dataframes that will hold output, first is a Papers dataframe that has the paper information"
   ]
  },
  {
   "cell_type": "code",
   "execution_count": 41,
   "metadata": {},
   "outputs": [],
   "source": [
    "Papers= pd.DataFrame(columns=['FacultyLastName','FacultyFirstName','authList', 'title', 'Year', 'Journal', 'citation', 'ScopusID'])"
   ]
  },
  {
   "cell_type": "markdown",
   "metadata": {},
   "source": [
    "Next is the dataframe that will have the first and last name of Faculty that need to be manually searched to get their scopus ID, either because no matches were found (which happens if a new faculty member has a non-brandeis affiliation associated with their account or if the person really doesnt have an author page with scopus )"
   ]
  },
  {
   "cell_type": "code",
   "execution_count": 42,
   "metadata": {},
   "outputs": [],
   "source": [
    "FacultyCheck =pd.DataFrame(columns=['FacultyLastName','FacultyFirstName'])"
   ]
  },
  {
   "cell_type": "markdown",
   "metadata": {},
   "source": [
    "Okay next we have a for loop that goes over the FacultyList uses the getAuthIDFromName function to get author ID and the total number of documents that is associated with that author id.  Then if author id is returned as 0 (meaning we didn't get a perfect match) we add the name to the FacultyCheck dataframe, otherwise we use the information to populate the Papers dataframe. To do that we first take the authID and put it into the GetPaperIDsFromAuthID function which returns a list of ScopusIDs (i.e. unique identifiers for each article). Then we loop over that list to populate the Papers dataframe using the GetArticleInfo function and use its return to populate each row with FacultyLastName and FirstName of faculty that prompted query, then author list, article title, year published, journal, and a mostly complete citation (hopefully, if elements of the citation aren't retrieved they just aren't included in the citation).  "
   ]
  },
  {
   "cell_type": "code",
   "execution_count": 43,
   "metadata": {},
   "outputs": [],
   "source": [
    "FacultyList=pd.read_csv(FileWithNames)"
   ]
  },
  {
   "cell_type": "code",
   "execution_count": 44,
   "metadata": {},
   "outputs": [
    {
     "name": "stdout",
     "output_type": "stream",
     "text": [
      "Perfect Match Not Found Rick Alterman\n",
      "Retrieving  0  documents for  Rick   Alterman\n",
      "Retrieving  25  documents for  Mitch   Cherniack\n",
      "...retrieved  25  papers...\n",
      "...paper index 1  of  25\n",
      "...paper index 2  of  25\n",
      "...paper index 3  of  25\n",
      "...paper index 4  of  25\n",
      "...paper index 5  of  25\n",
      "...paper index 6  of  25\n",
      "...paper index 7  of  25\n",
      "...paper index 8  of  25\n",
      "...paper index 9  of  25\n",
      "...paper index 10  of  25\n",
      "...paper index 11  of  25\n",
      "...paper index 12  of  25\n",
      "...paper index 13  of  25\n",
      "...paper index 14  of  25\n",
      "...paper index 15  of  25\n",
      "...paper index 16  of  25\n",
      "...paper index 17  of  25\n",
      "...paper index 18  of  25\n",
      "...paper index 19  of  25\n",
      "...paper index 20  of  25\n",
      "...paper index 21  of  25\n",
      "...paper index 22  of  25\n",
      "...paper index 23  of  25\n",
      "...paper index 24  of  25\n",
      "...paper index 25  of  25\n",
      "Retrieving  5  documents for  Antonella   DiLillo\n",
      "...retrieved  5  papers...\n",
      "...paper index 1  of  5\n",
      "...paper index 2  of  5\n",
      "...paper index 3  of  5\n",
      "...paper index 4  of  5\n",
      "...paper index 5  of  5\n",
      "Perfect Match Not Found Lotus Goldberg\n",
      "Retrieving  0  documents for  Lotus   Goldberg\n",
      "Retrieving  47  documents for  Tim   Hickey\n",
      "...retrieved  47  papers...\n",
      "...paper index 1  of  47\n",
      "...paper index 2  of  47\n",
      "...paper index 3  of  47\n",
      "...paper index 4  of  47\n",
      "...paper index 5  of  47\n",
      "...paper index 6  of  47\n",
      "...paper index 7  of  47\n",
      "...paper index 8  of  47\n",
      "...paper index 9  of  47\n",
      "...paper index 10  of  47\n",
      "...paper index 11  of  47\n",
      "...paper index 12  of  47\n",
      "...paper index 13  of  47\n",
      "...paper index 14  of  47\n",
      "...paper index 15  of  47\n",
      "...paper index 16  of  47\n",
      "...paper index 17  of  47\n",
      "...paper index 18  of  47\n",
      "...paper index 19  of  47\n",
      "...paper index 20  of  47\n",
      "...paper index 21  of  47\n",
      "...paper index 22  of  47\n",
      "...paper index 23  of  47\n",
      "...paper index 24  of  47\n",
      "...paper index 25  of  47\n",
      "...paper index 26  of  47\n",
      "...paper index 27  of  47\n",
      "...paper index 28  of  47\n",
      "...paper index 29  of  47\n",
      "...paper index 30  of  47\n",
      "...paper index 31  of  47\n",
      "...paper index 32  of  47\n",
      "...paper index 33  of  47\n",
      "...paper index 34  of  47\n",
      "...paper index 35  of  47\n",
      "...paper index 36  of  47\n",
      "...paper index 37  of  47\n",
      "...paper index 38  of  47\n",
      "...paper index 39  of  47\n",
      "...paper index 40  of  47\n",
      "...paper index 41  of  47\n",
      "...paper index 42  of  47\n",
      "...paper index 43  of  47\n",
      "...paper index 44  of  47\n",
      "...paper index 45  of  47\n",
      "...paper index 46  of  47\n",
      "...paper index 47  of  47\n",
      "Retrieving  34  documents for  Pengyu   Hong\n",
      "...retrieved  34  papers...\n",
      "...paper index 1  of  34\n",
      "...paper index 2  of  34\n",
      "...paper index 3  of  34\n",
      "...paper index 4  of  34\n",
      "...paper index 5  of  34\n",
      "...paper index 6  of  34\n",
      "...paper index 7  of  34\n",
      "...paper index 8  of  34\n",
      "...paper index 9  of  34\n",
      "...paper index 10  of  34\n",
      "...paper index 11  of  34\n",
      "...paper index 12  of  34\n",
      "...paper index 13  of  34\n",
      "...paper index 14  of  34\n",
      "...paper index 15  of  34\n",
      "...paper index 16  of  34\n",
      "...paper index 17  of  34\n",
      "...paper index 18  of  34\n",
      "...paper index 19  of  34\n",
      "...paper index 20  of  34\n",
      "...paper index 21  of  34\n",
      "...paper index 22  of  34\n",
      "...paper index 23  of  34\n",
      "...paper index 24  of  34\n",
      "...paper index 25  of  34\n",
      "...paper index 26  of  34\n",
      "...paper index 27  of  34\n",
      "...paper index 28  of  34\n",
      "...paper index 29  of  34\n",
      "...paper index 30  of  34\n",
      "...paper index 31  of  34\n",
      "...paper index 32  of  34\n",
      "...paper index 33  of  34\n",
      "...paper index 34  of  34\n",
      "Perfect Match Not Found Hongfu Liu\n",
      "Retrieving  0  documents for  Hongfu   Liu\n",
      "Retrieving  46  documents for  Harry   Mairson\n",
      "...retrieved  46  papers...\n",
      "...paper index 1  of  46\n",
      "...paper index 2  of  46\n",
      "...paper index 3  of  46\n",
      "...paper index 4  of  46\n",
      "...paper index 5  of  46\n",
      "...paper index 6  of  46\n",
      "...paper index 7  of  46\n",
      "...paper index 8  of  46\n",
      "...paper index 9  of  46\n",
      "...paper index 10  of  46\n",
      "...paper index 11  of  46\n",
      "...paper index 12  of  46\n",
      "...paper index 13  of  46\n",
      "...paper index 14  of  46\n",
      "...paper index 15  of  46\n",
      "...paper index 16  of  46\n",
      "...paper index 17  of  46\n",
      "...paper index 18  of  46\n",
      "...paper index 19  of  46\n",
      "...paper index 20  of  46\n",
      "...paper index 21  of  46\n",
      "...paper index 22  of  46\n",
      "...paper index 23  of  46\n",
      "...paper index 24  of  46\n",
      "...paper index 25  of  46\n",
      "...paper index 26  of  46\n",
      "...paper index 27  of  46\n",
      "...paper index 28  of  46\n",
      "...paper index 29  of  46\n",
      "...paper index 30  of  46\n",
      "...paper index 31  of  46\n",
      "...paper index 32  of  46\n",
      "...paper index 33  of  46\n",
      "...paper index 34  of  46\n",
      "...paper index 35  of  46\n",
      "...paper index 36  of  46\n",
      "...paper index 37  of  46\n",
      "...paper index 38  of  46\n",
      "...paper index 39  of  46\n",
      "...paper index 40  of  46\n",
      "...paper index 41  of  46\n",
      "...paper index 42  of  46\n",
      "...paper index 43  of  46\n",
      "...paper index 44  of  46\n",
      "...paper index 45  of  46\n",
      "...paper index 46  of  46\n",
      "Perfect Match Not Found Sophia Malamund\n",
      "Retrieving  0  documents for  Sophia   Malamund\n",
      "Perfect Match Not Found Marie Meteer\n",
      "Retrieving  0  documents for  Marie   Meteer\n",
      "Perfect Match Not Found Olga Papaemmanouil\n",
      "Retrieving  0  documents for  Olga   Papaemmanouil\n",
      "Perfect Match Not Found Jordan Pollack\n",
      "Retrieving  0  documents for  Jordan   Pollack\n",
      "Retrieving  107  documents for  James   Pustejovsky\n",
      "...retrieved  107  papers...\n",
      "...paper index 1  of  107\n",
      "...paper index 2  of  107\n",
      "...paper index 3  of  107\n",
      "...paper index 4  of  107\n",
      "...paper index 5  of  107\n",
      "...paper index 6  of  107\n",
      "...paper index 7  of  107\n",
      "...paper index 8  of  107\n",
      "...paper index 9  of  107\n",
      "...paper index 10  of  107\n",
      "...paper index 11  of  107\n",
      "...paper index 12  of  107\n",
      "...paper index 13  of  107\n",
      "...paper index 14  of  107\n",
      "...paper index 15  of  107\n",
      "...paper index 16  of  107\n",
      "...paper index 17  of  107\n",
      "...paper index 18  of  107\n",
      "...paper index 19  of  107\n",
      "...paper index 20  of  107\n",
      "...paper index 21  of  107\n",
      "...paper index 22  of  107\n",
      "...paper index 23  of  107\n",
      "...paper index 24  of  107\n",
      "...paper index 25  of  107\n",
      "...paper index 26  of  107\n",
      "...paper index 27  of  107\n",
      "...paper index 28  of  107\n",
      "...paper index 29  of  107\n",
      "...paper index 30  of  107\n",
      "...paper index 31  of  107\n",
      "...paper index 32  of  107\n",
      "...paper index 33  of  107\n",
      "...paper index 34  of  107\n",
      "...paper index 35  of  107\n",
      "...paper index 36  of  107\n",
      "...paper index 37  of  107\n",
      "...paper index 38  of  107\n",
      "...paper index 39  of  107\n",
      "...paper index 40  of  107\n",
      "...paper index 41  of  107\n",
      "...paper index 42  of  107\n",
      "...paper index 43  of  107\n",
      "...paper index 44  of  107\n",
      "...paper index 45  of  107\n",
      "...paper index 46  of  107\n",
      "...paper index 47  of  107\n",
      "...paper index 48  of  107\n",
      "...paper index 49  of  107\n",
      "...paper index 50  of  107\n",
      "...paper index 51  of  107\n",
      "...paper index 52  of  107\n",
      "...paper index 53  of  107\n",
      "...paper index 54  of  107\n",
      "...paper index 55  of  107\n",
      "...paper index 56  of  107\n",
      "...paper index 57  of  107\n",
      "...paper index 58  of  107\n",
      "...paper index 59  of  107\n",
      "...paper index 60  of  107\n",
      "...paper index 61  of  107\n",
      "...paper index 62  of  107\n",
      "...paper index 63  of  107\n",
      "...paper index 64  of  107\n",
      "...paper index 65  of  107\n",
      "...paper index 66  of  107\n",
      "...paper index 67  of  107\n",
      "...paper index 68  of  107\n",
      "...paper index 69  of  107\n",
      "...paper index 70  of  107\n",
      "...paper index 71  of  107\n",
      "...paper index 72  of  107\n",
      "...paper index 73  of  107\n",
      "...paper index 74  of  107\n",
      "...paper index 75  of  107\n",
      "...paper index 76  of  107\n",
      "...paper index 77  of  107\n",
      "...paper index 78  of  107\n",
      "...paper index 79  of  107\n",
      "...paper index 80  of  107\n",
      "...paper index 81  of  107\n",
      "...paper index 82  of  107\n",
      "...paper index 83  of  107\n",
      "...paper index 84  of  107\n",
      "...paper index 85  of  107\n",
      "...paper index 86  of  107\n",
      "...paper index 87  of  107\n",
      "...paper index 88  of  107\n",
      "...paper index 89  of  107\n",
      "...paper index 90  of  107\n",
      "...paper index 91  of  107\n",
      "...paper index 92  of  107\n",
      "...paper index 93  of  107\n",
      "...paper index 94  of  107\n",
      "...paper index 95  of  107\n",
      "...paper index 96  of  107\n",
      "...paper index 97  of  107\n",
      "...paper index 98  of  107\n",
      "...paper index 99  of  107\n",
      "...paper index 100  of  107\n",
      "...paper index 101  of  107\n",
      "...paper index 102  of  107\n",
      "...paper index 103  of  107\n",
      "...paper index 104  of  107\n",
      "...paper index 105  of  107\n",
      "...paper index 106  of  107\n",
      "...paper index 107  of  107\n",
      "Retrieving  2  documents for  R. Pito   Salas\n",
      "...retrieved  2  papers...\n",
      "...paper index 1  of  2\n",
      "...paper index 2  of  2\n",
      "Retrieving  49  documents for  Liuba   Shrira\n",
      "...retrieved  49  papers...\n",
      "...paper index 1  of  49\n"
     ]
    },
    {
     "name": "stdout",
     "output_type": "stream",
     "text": [
      "...paper index 2  of  49\n",
      "...paper index 3  of  49\n",
      "...paper index 4  of  49\n",
      "...paper index 5  of  49\n",
      "...paper index 6  of  49\n",
      "...paper index 7  of  49\n",
      "...paper index 8  of  49\n",
      "...paper index 9  of  49\n",
      "...paper index 10  of  49\n",
      "...paper index 11  of  49\n",
      "...paper index 12  of  49\n",
      "...paper index 13  of  49\n",
      "...paper index 14  of  49\n",
      "...paper index 15  of  49\n",
      "...paper index 16  of  49\n",
      "...paper index 17  of  49\n",
      "...paper index 18  of  49\n",
      "...paper index 19  of  49\n",
      "...paper index 20  of  49\n",
      "...paper index 21  of  49\n",
      "...paper index 22  of  49\n",
      "...paper index 23  of  49\n",
      "...paper index 24  of  49\n",
      "...paper index 25  of  49\n",
      "...paper index 26  of  49\n",
      "...paper index 27  of  49\n",
      "...paper index 28  of  49\n",
      "...paper index 29  of  49\n",
      "...paper index 30  of  49\n",
      "...paper index 31  of  49\n",
      "...paper index 32  of  49\n",
      "...paper index 33  of  49\n",
      "...paper index 34  of  49\n",
      "...paper index 35  of  49\n",
      "...paper index 36  of  49\n",
      "...paper index 37  of  49\n",
      "...paper index 38  of  49\n",
      "...paper index 39  of  49\n",
      "...paper index 40  of  49\n",
      "...paper index 41  of  49\n",
      "...paper index 42  of  49\n",
      "...paper index 43  of  49\n",
      "...paper index 44  of  49\n",
      "...paper index 45  of  49\n",
      "...paper index 46  of  49\n",
      "...paper index 47  of  49\n",
      "...paper index 48  of  49\n",
      "...paper index 49  of  49\n",
      "Perfect Match Not Found Jim Storer\n",
      "Retrieving  0  documents for  Jim   Storer\n",
      "Perfect Match Not Found Nianwen Bert Xue\n",
      "Retrieving  0  documents for  Nianwen Bert   Xue\n"
     ]
    }
   ],
   "source": [
    "for i in range(len(FacultyList)):\n",
    "    authID,docCount = ScopusFunctions.getAuthIDFromName(FacultyList['FirstName'][i], FacultyList['LastName'][i])\n",
    "    print('Retrieving ', docCount, ' documents for ',FacultyList['FirstName'][i],' ',FacultyList['LastName'][i]) #This line just shows which number on faculty list you're at the code can take time to run. \n",
    "    if authID == '0':\n",
    "        FacultyCheck.loc[(len(FacultyCheck.index)+1)]=[FacultyList['FirstName'][i], FacultyList['LastName'][i]]\n",
    "    else:\n",
    "        PaperIDList= ScopusFunctions.GetPaperIDsFromAuthID(authID)\n",
    "        print('...retrieved ', len(PaperIDList), ' papers...')\n",
    "        for j in range(len(PaperIDList)):\n",
    "            paperID = PaperIDList[j]\n",
    "            print('...paper index', j+1, ' of ',docCount )\n",
    "            authList, title, Year, Journal, citation = ScopusFunctions.getArticleInfo(paperID)\n",
    "            Papers.loc[(len(Papers.index)+1)] = [FacultyList['LastName'][i], FacultyList['FirstName'][i], authList, title, Year, Journal, citation, paperID]"
   ]
  },
  {
   "cell_type": "markdown",
   "metadata": {},
   "source": [
    "NOTE: If you query is for a very large number of papers/people sometimes this goes awry and you have to do it in pieces.This is why I have it printing statuses of what person and paper its querying so that you know how to break it into chunks. Code will need to be adapted to account for this. \n",
    "\n",
    "Okay lets save the file with our names we need to check"
   ]
  },
  {
   "cell_type": "code",
   "execution_count": 45,
   "metadata": {},
   "outputs": [],
   "source": [
    "FacultyCheck.to_csv(FileWithNamesToCheck)"
   ]
  },
  {
   "cell_type": "markdown",
   "metadata": {},
   "source": [
    "Now you want to go to that file and check out the names in scopus. Delete any that do not have a Scopus ID, and add a third column 'AuthID' with the author IDs for the faculty you are able to confirm ids. Then we'll load the files back in and query for their papers.  "
   ]
  },
  {
   "cell_type": "code",
   "execution_count": 49,
   "metadata": {},
   "outputs": [],
   "source": [
    "CheckedNames = pd.read_csv(CheckedFileName)"
   ]
  },
  {
   "cell_type": "markdown",
   "metadata": {},
   "source": [
    "Okay then we take that list and go over the same process to get paperIDs and ArticleInfo that we used for the fully FacultyList initially"
   ]
  },
  {
   "cell_type": "code",
   "execution_count": 50,
   "metadata": {},
   "outputs": [],
   "source": [
    "for i in range(len(CheckedNames)):\n",
    "    PaperIDList= ScopusFunctions.GetPaperIDsFromAuthID(str(CheckedNames.loc[i, 'AuthID']))\n",
    "    for j in range(len(PaperIDList)):\n",
    "        paperID = PaperIDList[j]\n",
    "        authList, title, Year, Journal, citation = ScopusFunctions.getArticleInfo(paperID)\n",
    "        Papers.loc[(len(Papers.index)+1)] = [CheckedNames['FacultyLastName'][i], CheckedNames['FacultyFirstName'][i], authList, title, Year, Journal, citation, paperID]"
   ]
  },
  {
   "cell_type": "markdown",
   "metadata": {},
   "source": [
    "\n",
    "When we have as complete a list of papers as we're going to get for now. So we can save this dataframe"
   ]
  },
  {
   "cell_type": "code",
   "execution_count": 51,
   "metadata": {},
   "outputs": [],
   "source": [
    "Papers.to_csv(FileWithOutputPapers)"
   ]
  },
  {
   "cell_type": "code",
   "execution_count": null,
   "metadata": {},
   "outputs": [],
   "source": []
  }
 ],
 "metadata": {
  "kernelspec": {
   "display_name": "Python 3",
   "language": "python",
   "name": "python3"
  },
  "language_info": {
   "codemirror_mode": {
    "name": "ipython",
    "version": 3
   },
   "file_extension": ".py",
   "mimetype": "text/x-python",
   "name": "python",
   "nbconvert_exporter": "python",
   "pygments_lexer": "ipython3",
   "version": "3.7.2"
  }
 },
 "nbformat": 4,
 "nbformat_minor": 2
}
